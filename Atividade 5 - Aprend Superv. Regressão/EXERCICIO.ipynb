{
 "cells": [
  {
   "cell_type": "code",
   "execution_count": 2,
   "id": "4ce51090",
   "metadata": {},
   "outputs": [
    {
     "name": "stdout",
     "output_type": "stream",
     "text": [
      "Note: you may need to restart the kernel to use updated packages.\n"
     ]
    },
    {
     "name": "stderr",
     "output_type": "stream",
     "text": [
      "ERROR: Could not find a version that satisfies the requirement upgrade (from versions: none)\n",
      "\n",
      "[notice] A new release of pip is available: 25.0.1 -> 25.1\n",
      "[notice] To update, run: python.exe -m pip install --upgrade pip\n",
      "ERROR: No matching distribution found for upgrade\n"
     ]
    }
   ],
   "source": [
    "pip install upgrade scikit-learn\n"
   ]
  },
  {
   "cell_type": "code",
   "execution_count": 6,
   "id": "395fad62",
   "metadata": {},
   "outputs": [
    {
     "name": "stdout",
     "output_type": "stream",
     "text": [
      "R^2: nan\n",
      "RMSE: 103499.93\n"
     ]
    },
    {
     "name": "stderr",
     "output_type": "stream",
     "text": [
      "c:\\Users\\Daniel\\AppData\\Local\\Programs\\Python\\Python313\\Lib\\site-packages\\sklearn\\metrics\\_regression.py:1266: UndefinedMetricWarning: R^2 score is not well-defined with less than two samples.\n",
      "  warnings.warn(msg, UndefinedMetricWarning)\n"
     ]
    }
   ],
   "source": [
    "from sklearn.metrics import mean_squared_error\n",
    "import numpy as np\n",
    "\n",
    "# Calcular R² (coeficiente de determinação)\n",
    "r_squared = reg.score(X_test, y_test)\n",
    "\n",
    "# Calcular MSE (Erro Quadrático Médio)\n",
    "mse = mean_squared_error(y_test, y_pred)\n",
    "\n",
    "# Calcular RMSE (Raiz do Erro Quadrático Médio) manualmente\n",
    "rmse = np.sqrt(mse)\n",
    "\n",
    "# Exibir as métricas\n",
    "print(\"R^2: {}\".format(r_squared))\n",
    "print(\"RMSE: {}\".format(rmse))\n",
    "\n"
   ]
  },
  {
   "cell_type": "code",
   "execution_count": 4,
   "id": "b61a68eb",
   "metadata": {},
   "outputs": [
    {
     "name": "stdout",
     "output_type": "stream",
     "text": [
      "Predictions: [46677.9], Actual Values: 1    150177.83\n",
      "Name: sales, dtype: float64\n"
     ]
    }
   ],
   "source": [
    "from sklearn.model_selection import train_test_split\n",
    "from sklearn.linear_model import LinearRegression\n",
    "\n",
    "# Criação de X e y\n",
    "X = sales_df.drop(\"sales\", axis=1)  # Features (todas as colunas exceto \"sales\")\n",
    "y = sales_df[\"sales\"]  # Alvo (a coluna \"sales\")\n",
    "\n",
    "# Dividir os dados em treinamento e teste\n",
    "X_train, X_test, y_train, y_test = train_test_split(X, y, test_size=0.3, random_state=42)\n",
    "\n",
    "# Instanciar o modelo de regressão linear\n",
    "reg = LinearRegression()\n",
    "\n",
    "# Ajustar o modelo aos dados de treinamento\n",
    "reg.fit(X_train, y_train)\n",
    "\n",
    "# Fazer previsões de vendas com os dados de teste\n",
    "y_pred = reg.predict(X_test)\n",
    "\n",
    "# Exibir as previsões e os valores reais para as primeiras duas previsões\n",
    "print(\"Predictions: {}, Actual Values: {}\".format(y_pred[:2], y_test[:2]))\n"
   ]
  },
  {
   "cell_type": "code",
   "execution_count": 3,
   "id": "f19ade5c",
   "metadata": {},
   "outputs": [
    {
     "name": "stdout",
     "output_type": "stream",
     "text": [
      "R²: nan\n",
      "RMSE: 0.0\n"
     ]
    },
    {
     "name": "stderr",
     "output_type": "stream",
     "text": [
      "c:\\Users\\Daniel\\AppData\\Local\\Programs\\Python\\Python313\\Lib\\site-packages\\sklearn\\metrics\\_regression.py:1266: UndefinedMetricWarning: R^2 score is not well-defined with less than two samples.\n",
      "  warnings.warn(msg, UndefinedMetricWarning)\n"
     ]
    }
   ],
   "source": [
    "from sklearn.model_selection import train_test_split\n",
    "from sklearn.linear_model import LinearRegression\n",
    "from sklearn.metrics import mean_squared_error\n",
    "import numpy as np\n",
    "\n",
    "# Exemplo de dados (substitua pelos seus dados reais)\n",
    "# Suponha que X e y sejam seus dados de entrada e saída\n",
    "# X = características de entrada (features), y = variável alvo (target)\n",
    "\n",
    "# Exemplo de dados fictícios\n",
    "# X = dados de entrada (por exemplo, variáveis independentes)\n",
    "# y = dados de saída (por exemplo, variáveis dependentes)\n",
    "\n",
    "X = [[1], [2], [3], [4], [5]]  # Exemplo de dados de entrada\n",
    "y = [1, 2, 3, 4, 5]  # Exemplo de dados de saída\n",
    "\n",
    "# Dividindo os dados em conjunto de treinamento e teste\n",
    "X_train, X_test, y_train, y_test = train_test_split(X, y, test_size=0.2, random_state=42)\n",
    "\n",
    "# Criando o modelo de regressão linear\n",
    "reg = LinearRegression()\n",
    "\n",
    "# Treinando o modelo\n",
    "reg.fit(X_train, y_train)\n",
    "\n",
    "# Fazendo previsões\n",
    "y_pred = reg.predict(X_test)\n",
    "\n",
    "# Avaliar o modelo\n",
    "r_squared = reg.score(X_test, y_test)\n",
    "\n",
    "# Calcular RMSE manualmente\n",
    "mse = mean_squared_error(y_test, y_pred)  # Calcula o MSE\n",
    "rmse = np.sqrt(mse)  # Calcula o RMSE\n",
    "\n",
    "# Mostrar resultados\n",
    "print(f\"R²: {r_squared}\")\n",
    "print(f\"RMSE: {rmse}\")\n"
   ]
  }
 ],
 "metadata": {
  "kernelspec": {
   "display_name": "Python 3",
   "language": "python",
   "name": "python3"
  },
  "language_info": {
   "codemirror_mode": {
    "name": "ipython",
    "version": 3
   },
   "file_extension": ".py",
   "mimetype": "text/x-python",
   "name": "python",
   "nbconvert_exporter": "python",
   "pygments_lexer": "ipython3",
   "version": "3.13.3"
  }
 },
 "nbformat": 4,
 "nbformat_minor": 5
}
